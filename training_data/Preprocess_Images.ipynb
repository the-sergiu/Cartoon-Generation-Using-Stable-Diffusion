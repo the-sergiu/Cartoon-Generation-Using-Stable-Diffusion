{
 "cells": [
  {
   "cell_type": "code",
   "execution_count": 1,
   "id": "f42281b4",
   "metadata": {},
   "outputs": [],
   "source": [
    "from PIL import Image\n",
    "import glob\n",
    "import os"
   ]
  },
  {
   "cell_type": "markdown",
   "id": "97b7cd30",
   "metadata": {},
   "source": [
    "## Generate images for south park"
   ]
  },
  {
   "cell_type": "code",
   "execution_count": null,
   "id": "81aa44f4",
   "metadata": {},
   "outputs": [],
   "source": [
    "# get all the files in a folder, make sure all are image files\n",
    "files = glob.glob('.\\\\raw\\\\style_south_park\\\\*')\n",
    "files"
   ]
  },
  {
   "cell_type": "code",
   "execution_count": 3,
   "id": "43e9a4ef",
   "metadata": {},
   "outputs": [],
   "source": [
    "size = (512, 512)\n",
    "\n",
    "for i, fil in enumerate(files):\n",
    "    \n",
    "    # get the basename, e.g. \"dragon.jpg\" -> (\"dragon\", \".jpg\")\n",
    "#     basename = os.path.splitext(os.path.basename(fil))[0]\n",
    "\n",
    "    with Image.open(fil) as img:\n",
    "        # resize the image to 512 x 512\n",
    "        img = img.resize(size)\n",
    "        \n",
    "        # save the resized image, modify the resample method if required, modify the output directory as well\n",
    "        img.save(f\"./processed/style_south_park/{i}.png\", format=\"PNG\", resample=Image.Resampling.NEAREST)\n"
   ]
  },
  {
   "cell_type": "markdown",
   "id": "23b11d13",
   "metadata": {},
   "source": [
    "## Generate images in style of Simpsons"
   ]
  },
  {
   "cell_type": "code",
   "execution_count": 4,
   "id": "c6188023",
   "metadata": {},
   "outputs": [
    {
     "data": {
      "text/plain": [
       "['.\\\\raw\\\\style_simpsons\\\\simpsons_1.png',\n",
       " '.\\\\raw\\\\style_simpsons\\\\simpsons_2.png',\n",
       " '.\\\\raw\\\\style_simpsons\\\\simpsons_3.png',\n",
       " '.\\\\raw\\\\style_simpsons\\\\simpsons_4.png',\n",
       " '.\\\\raw\\\\style_simpsons\\\\simpsons_5.png']"
      ]
     },
     "execution_count": 4,
     "metadata": {},
     "output_type": "execute_result"
    }
   ],
   "source": [
    "# get all the files in a folder, make sure all are image files\n",
    "files = glob.glob('.\\\\raw\\\\style_simpsons\\\\*')\n",
    "files"
   ]
  },
  {
   "cell_type": "code",
   "execution_count": 5,
   "id": "f9d7fbf6",
   "metadata": {},
   "outputs": [],
   "source": [
    "size = (512, 512)\n",
    "\n",
    "for i, fil in enumerate(files):\n",
    "    \n",
    "    # get the basename, e.g. \"dragon.jpg\" -> (\"dragon\", \".jpg\")\n",
    "#     basename = os.path.splitext(os.path.basename(fil))[0]\n",
    "\n",
    "    with Image.open(fil) as img:\n",
    "        # resize the image to 512 x 512\n",
    "        img = img.resize(size)\n",
    "        \n",
    "        # save the resized image, modify the resample method if required, modify the output directory as well\n",
    "        img.save(f\"./processed/style_simpsons/{i}.png\", format=\"PNG\", resample=Image.Resampling.NEAREST)"
   ]
  },
  {
   "cell_type": "markdown",
   "id": "9350752d",
   "metadata": {},
   "source": [
    "## Generate images in style of Naruto"
   ]
  },
  {
   "cell_type": "code",
   "execution_count": 6,
   "id": "bb22b3ec",
   "metadata": {},
   "outputs": [
    {
     "data": {
      "text/plain": [
       "['.\\\\raw\\\\style_naruto\\\\naruto_1.jpg',\n",
       " '.\\\\raw\\\\style_naruto\\\\naruto_2.jpg',\n",
       " '.\\\\raw\\\\style_naruto\\\\naruto_3.jpg',\n",
       " '.\\\\raw\\\\style_naruto\\\\naruto_4.png',\n",
       " '.\\\\raw\\\\style_naruto\\\\naruto_5.jpg']"
      ]
     },
     "execution_count": 6,
     "metadata": {},
     "output_type": "execute_result"
    }
   ],
   "source": [
    "# get all the files in a folder, make sure all are image files\n",
    "files = glob.glob('.\\\\raw\\\\style_naruto\\\\*')\n",
    "files"
   ]
  },
  {
   "cell_type": "code",
   "execution_count": 7,
   "id": "75c73f1a",
   "metadata": {},
   "outputs": [],
   "source": [
    "size = (512, 512)\n",
    "\n",
    "for i, fil in enumerate(files):\n",
    "    \n",
    "    # get the basename, e.g. \"dragon.jpg\" -> (\"dragon\", \".jpg\")\n",
    "#     basename = os.path.splitext(os.path.basename(fil))[0]\n",
    "\n",
    "    with Image.open(fil) as img:\n",
    "        # resize the image to 512 x 512\n",
    "        img = img.resize(size)\n",
    "        \n",
    "        # save the resized image, modify the resample method if required, modify the output directory as well\n",
    "        img.save(f\"./processed/style_naruto/{i}.png\", format=\"PNG\", resample=Image.Resampling.NEAREST)"
   ]
  },
  {
   "cell_type": "code",
   "execution_count": null,
   "id": "e815c7e8",
   "metadata": {},
   "outputs": [],
   "source": []
  }
 ],
 "metadata": {
  "kernelspec": {
   "display_name": "Python 3 (ipykernel)",
   "language": "python",
   "name": "python3"
  },
  "language_info": {
   "codemirror_mode": {
    "name": "ipython",
    "version": 3
   },
   "file_extension": ".py",
   "mimetype": "text/x-python",
   "name": "python",
   "nbconvert_exporter": "python",
   "pygments_lexer": "ipython3",
   "version": "3.9.13"
  }
 },
 "nbformat": 4,
 "nbformat_minor": 5
}
